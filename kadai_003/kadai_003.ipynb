{
  "nbformat": 4,
  "nbformat_minor": 0,
  "metadata": {
    "colab": {
      "provenance": []
    },
    "kernelspec": {
      "name": "python3",
      "display_name": "Python 3"
    },
    "language_info": {
      "name": "python"
    }
  },
  "cells": [
    {
      "cell_type": "code",
      "execution_count": 3,
      "metadata": {
        "id": "y7TM0dUrbgCx"
      },
      "outputs": [],
      "source": [
        "import numpy as np\n",
        "A = np.array([[0,1],\n",
        "              [2,3],\n",
        "              [4,5]])\n",
        "B = np.array([[0,1,2,3],\n",
        "              [4,5,6,7]])"
      ]
    },
    {
      "cell_type": "code",
      "source": [
        "answer=np.dot(A,B)"
      ],
      "metadata": {
        "id": "zGLD-m7PdCdO"
      },
      "execution_count": 4,
      "outputs": []
    },
    {
      "cell_type": "code",
      "source": [
        "print(answer)\n",
        "print(answer.max())"
      ],
      "metadata": {
        "colab": {
          "base_uri": "https://localhost:8080/"
        },
        "id": "5WmTqsEudGXW",
        "outputId": "3327f60a-24eb-4d28-b47f-847b797d5ed8"
      },
      "execution_count": 5,
      "outputs": [
        {
          "output_type": "stream",
          "name": "stdout",
          "text": [
            "[[ 4  5  6  7]\n",
            " [12 17 22 27]\n",
            " [20 29 38 47]]\n",
            "47\n"
          ]
        }
      ]
    }
  ]
}